{
 "cells": [
  {
   "cell_type": "code",
   "execution_count": 1,
   "id": "4c3b263c",
   "metadata": {},
   "outputs": [],
   "source": [
    "#entropie conditionala medie specifica\n",
    "def ecms(a,b):\n",
    "    if (a==0 or b==0):\n",
    "        return 0\n",
    "    import math\n",
    "    return (1/(a+b))*math.log( math.pow(a+b,(a+b))/(math.pow(a,a)*math.pow(b,b)) ,2)\n",
    "\n",
    "def calculator_entropie(a,b,c,d):\n",
    "    import math\n",
    "    a = abs(a)\n",
    "    b = abs(b)\n",
    "    c = abs(c)\n",
    "    d = abs(d)\n",
    "    total = a+b+c+d\n",
    "    rezultat = ((a+b)/total)*ecms(a,b) + ((c+d)/total)*ecms(c,d)\n",
    "    print(rezultat)\n",
    "    return rezultat"
   ]
  },
  {
   "cell_type": "code",
   "execution_count": 25,
   "id": "142527ed",
   "metadata": {},
   "outputs": [
    {
     "name": "stdout",
     "output_type": "stream",
     "text": [
      "0.8087698589864738\n",
      "0.7682948528019637\n",
      "0.7019550008653874\n",
      "0.5333333333333333\n",
      "0.8354712650426319\n"
     ]
    },
    {
     "data": {
      "text/plain": [
       "0.8354712650426319"
      ]
     },
     "execution_count": 25,
     "metadata": {},
     "output_type": "execute_result"
    }
   ],
   "source": [
    "ecms(1,0)\n",
    "calculator_entropie(1,1,10,3)\n",
    "calculator_entropie(2,2,9,2)\n",
    "calculator_entropie(3,3,8,1)\n",
    "calculator_entropie(4,4,7,0)\n",
    "calculator_entropie(5,2,6,2)"
   ]
  },
  {
   "cell_type": "code",
   "execution_count": 3,
   "id": "0e46d2aa",
   "metadata": {},
   "outputs": [
    {
     "name": "stdout",
     "output_type": "stream",
     "text": [
      "0.4591479170272448\n"
     ]
    },
    {
     "data": {
      "text/plain": [
       "0.4591479170272448"
      ]
     },
     "execution_count": 3,
     "metadata": {},
     "output_type": "execute_result"
    }
   ],
   "source": [
    "calculator_entropie(3,0,2,1)"
   ]
  },
  {
   "cell_type": "code",
   "execution_count": null,
   "id": "4411282e",
   "metadata": {},
   "outputs": [],
   "source": []
  }
 ],
 "metadata": {
  "kernelspec": {
   "display_name": "Python 3 (ipykernel)",
   "language": "python",
   "name": "python3"
  },
  "language_info": {
   "codemirror_mode": {
    "name": "ipython",
    "version": 3
   },
   "file_extension": ".py",
   "mimetype": "text/x-python",
   "name": "python",
   "nbconvert_exporter": "python",
   "pygments_lexer": "ipython3",
   "version": "3.9.7"
  }
 },
 "nbformat": 4,
 "nbformat_minor": 5
}
