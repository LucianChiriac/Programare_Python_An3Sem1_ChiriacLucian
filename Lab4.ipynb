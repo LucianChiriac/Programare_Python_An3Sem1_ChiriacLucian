{
 "cells": [
  {
   "cell_type": "markdown",
   "id": "59d4b1a0",
   "metadata": {},
   "source": [
    "1. Să se scrie o funcție ce primeste un singur parametru, director, ce reprezintă calea către un director. \n",
    "\n",
    "Funcția returnează o listă cu extensiile unice sortate crescator (in ordine alfabetica) a fișierelor din directorul dat ca parametru.\n",
    "\n",
    "Mențiune: extensia fișierului ‘fisier.txt’ este ‘txt’ "
   ]
  },
  {
   "cell_type": "code",
   "execution_count": 18,
   "id": "fcb041dc",
   "metadata": {},
   "outputs": [],
   "source": [
    "def get_extensions(path):\n",
    "    import os\n",
    "    import re\n",
    "    all_files = os.listdir(path)\n",
    "    extensions = [f.split(\".\")[-1] for f in all_files if \".\" in f]\n",
    "    return set(extensions)\n",
    "    #return all_files"
   ]
  },
  {
   "cell_type": "code",
   "execution_count": 20,
   "id": "6c12ba68",
   "metadata": {},
   "outputs": [
    {
     "name": "stdout",
     "output_type": "stream",
     "text": [
      "Extensiile fisierelor de pe Desktop sunt:  {'pdf', 'xlsx', 'docx', 'jpg', 'lnk', 'ini', 'url', 'txt'}\n"
     ]
    }
   ],
   "source": [
    "print(\"Extensiile fisierelor de pe Desktop sunt: \",get_extensions(\"C:/Users/Lucian/Desktop\"))"
   ]
  },
  {
   "cell_type": "markdown",
   "id": "0a57295b",
   "metadata": {},
   "source": [
    "2. Să se scrie o funcție ce primește ca argumente două căi: director si fișier. \n",
    "\n",
    "Implementati functia astfel încât în fișierul de la calea fișier să fie scrisă pe câte o linie, calea absolută a fiecărui fișier din interiorul directorului de la calea folder, ce incepe cu litera A. "
   ]
  },
  {
   "cell_type": "code",
   "execution_count": 45,
   "id": "cfdf5dca",
   "metadata": {},
   "outputs": [],
   "source": [
    "def weird_function(director, fisier):\n",
    "    import os\n",
    "    import re\n",
    "    try:\n",
    "        fhandle = open(fisier,\"w\")\n",
    "    except:\n",
    "        print(\"Path incorect! Fisierul nu poate fi deschis\")\n",
    "    all_paths = [director+\"/\"+fname for fname in os.listdir(director) if os.path.isfile(os.path.join(director,fname)) and fname.startswith(\"A\")]\n",
    "    for pth in all_paths:\n",
    "        fhandle.write(pth+\"\\n\")\n",
    "    "
   ]
  },
  {
   "cell_type": "code",
   "execution_count": 46,
   "id": "d11ec812",
   "metadata": {},
   "outputs": [],
   "source": [
    "# Tested and it works\n",
    "weird_function(\"C:/Users/Lucian/Desktop/Programare Python\",\"C:/Users/Lucian/Desktop/Programare Python/test.txt\")"
   ]
  },
  {
   "cell_type": "markdown",
   "id": "fabe2cd3",
   "metadata": {},
   "source": [
    "3. Să se scrie o funcție ce primește ca parametru un string my_path.\n",
    "\n",
    "Dacă parametrul reprezintă calea către un fișier, se vor returna ultimele 20 de caractere din conținutul fișierului. Dacă parametrul reprezintă calea către un director, se va returna o listă de tuple (extensie, count), sortată descrescător după count, unde extensie reprezintă extensie de fișier, iar count - numărul de fișiere cu acea extensie. Lista se obține din toate fișierele (recursiv) din directorul dat ca parametru. "
   ]
  },
  {
   "cell_type": "code",
   "execution_count": 84,
   "id": "db6e1b19",
   "metadata": {},
   "outputs": [],
   "source": [
    "# Helper function:\n",
    "def extensions_fct(path):\n",
    "    import os\n",
    "    import re\n",
    "    global ext\n",
    "    all_files = os.listdir(path)\n",
    "    extensions = [f.split(\".\")[-1] for f in all_files if \".\" in f]\n",
    "    ext = ext + extensions\n",
    "    folders = [path+'/'+fd for fd in all_files if os.path.isdir(path+'/'+fd)]\n",
    "    for fd in folders:\n",
    "        extensions_fct(fd)\n",
    "    return ext\n",
    "\n",
    "def another_weird_function(my_path):\n",
    "    import os\n",
    "    global ext\n",
    "    import collections\n",
    "    ext = []\n",
    "    if os.path.isfile(my_path):\n",
    "        with open(my_path,\"r\") as mf:\n",
    "            return mf.read()[-20:]\n",
    "    if os.path.isdir(my_path):\n",
    "        extensions_fct(my_path)\n",
    "    frequency = collections.Counter(ext).most_common()\n",
    "    return frequency"
   ]
  },
  {
   "cell_type": "code",
   "execution_count": 85,
   "id": "cd308b36",
   "metadata": {},
   "outputs": [
    {
     "data": {
      "text/plain": [
       "[('pdf', 43),\n",
       " ('ipynb', 42),\n",
       " ('jpg', 35),\n",
       " ('sample', 26),\n",
       " ('lnk', 13),\n",
       " ('txt', 9),\n",
       " ('url', 5),\n",
       " ('ipynb_checkpoints', 4),\n",
       " ('docx', 3),\n",
       " ('git', 2),\n",
       " ('gz', 2),\n",
       " ('xlsx', 1),\n",
       " ('ini', 1),\n",
       " ('doc', 1),\n",
       " ('PDF', 1),\n",
       " ('html', 1),\n",
       " ('vsdx', 1),\n",
       " ('bmp', 1)]"
      ]
     },
     "execution_count": 85,
     "metadata": {},
     "output_type": "execute_result"
    }
   ],
   "source": [
    "another_weird_function(\"C:/Users/Lucian/Desktop/Programare Python/test.txt\")\n",
    "another_weird_function(\"C:/Users/Lucian/Desktop\")"
   ]
  },
  {
   "cell_type": "markdown",
   "id": "0c776ca2",
   "metadata": {},
   "source": [
    "4. Să se scrie o funcție ce returnează o listă cu extensiile unice a fișierelor din directorul dat ca argument la linia de comandă (nerecursiv). Lista trebuie să fie sortată crescător.\n",
    "\n",
    "Mențiune: extensia fișierului ‘fisier.txt’ este ‘txt’, iar ‘fisier’ nu are extensie, deci nu va apărea în lista finală. "
   ]
  },
  {
   "cell_type": "code",
   "execution_count": 92,
   "id": "3a6f0bfc",
   "metadata": {},
   "outputs": [],
   "source": [
    "def this_again(my_path):\n",
    "    import os\n",
    "    if not os.path.isdir(my_path):\n",
    "        print(\"Path invalid! Cannot read directory!\")\n",
    "        return 0\n",
    "    all_ext = [f.split(\".\")[1] for f in os.listdir(my_path) if os.path.isfile(my_path+\"/\"+f) and \".\" in f]\n",
    "    return sorted(list(set(all_ext)))"
   ]
  },
  {
   "cell_type": "code",
   "execution_count": 93,
   "id": "b42f2f49",
   "metadata": {},
   "outputs": [
    {
     "data": {
      "text/plain": [
       "['bmp', 'ipynb', 'pkl', 'txt', 'vsdx']"
      ]
     },
     "execution_count": 93,
     "metadata": {},
     "output_type": "execute_result"
    }
   ],
   "source": [
    "this_again(\"C:/Users/Lucian/Desktop/Programare Python\")"
   ]
  },
  {
   "cell_type": "markdown",
   "id": "a71945b3",
   "metadata": {},
   "source": [
    "5. Să se scrie o funcție care primește ca argumente două șiruri de caractere, target și to_search și returneaza o listă de fișiere care conțin to_search. Fișierele se vor căuta astfel: dacă target este un fișier, se caută doar in fișierul respectiv iar dacă este un director se va căuta recursiv in toate fișierele din acel director. Dacă target nu este nici fișier, nici director, se va arunca o excepție de tipul ValueError cu un mesaj corespunzator."
   ]
  },
  {
   "cell_type": "code",
   "execution_count": 115,
   "id": "b63a5b8d",
   "metadata": {},
   "outputs": [],
   "source": [
    "# fctie ajutatoare\n",
    "results = []\n",
    "def target_search(target, to_search):\n",
    "    import os\n",
    "    global results\n",
    "    if os.path.isfile(target):\n",
    "        try:    \n",
    "            with open(target,\"r\") as fh:\n",
    "                fh = fh.read()\n",
    "                if to_search in fh:\n",
    "                    results = results + [target]\n",
    "        except ValueError:\n",
    "            print(\"Can't read this file: \"+target)\n",
    "    elif os.path.isdir(target):\n",
    "        for new_target in os.listdir(target):\n",
    "            target_search(target+\"/\"+new_target,to_search)\n",
    "    return results\n",
    "    "
   ]
  },
  {
   "cell_type": "code",
   "execution_count": 114,
   "id": "b313ba6d",
   "metadata": {},
   "outputs": [
    {
     "name": "stdout",
     "output_type": "stream",
     "text": [
      "Can't read this file: C:/Users/Lucian/Desktop/Programare Python/.git/index\n",
      "Can't read this file: C:/Users/Lucian/Desktop/Programare Python/.git/objects/05/9aba0d982e20e2ac125a3a59d89c3c2cd8b28a\n",
      "Can't read this file: C:/Users/Lucian/Desktop/Programare Python/.git/objects/0a/b76175582905a9a5a6d241a7dcb7210dbc8383\n",
      "Can't read this file: C:/Users/Lucian/Desktop/Programare Python/.git/objects/20/788744f229d35bba22ace4ffd6f12ac72ab316\n",
      "Can't read this file: C:/Users/Lucian/Desktop/Programare Python/.git/objects/29/8b330c6bc68eb1df61b4aeb29d86858f06379f\n",
      "Can't read this file: C:/Users/Lucian/Desktop/Programare Python/.git/objects/2c/da82fca532188ea5f193da52c61da538c061ed\n",
      "Can't read this file: C:/Users/Lucian/Desktop/Programare Python/.git/objects/37/f3cb31b69fe0b0d5bfc5193c1336c5d9ef1944\n",
      "Can't read this file: C:/Users/Lucian/Desktop/Programare Python/.git/objects/4a/925e78cd432ef8ab07035112dd6ccf6261a2d0\n",
      "Can't read this file: C:/Users/Lucian/Desktop/Programare Python/.git/objects/61/6e5aea163920c331d790938b12fb9431071035\n",
      "Can't read this file: C:/Users/Lucian/Desktop/Programare Python/.git/objects/62/5e63b64307dd48a1ab380093133ddaead591a7\n",
      "Can't read this file: C:/Users/Lucian/Desktop/Programare Python/.git/objects/6f/4e8b6649e843d284daa68d921ab9f86aab73eb\n",
      "Can't read this file: C:/Users/Lucian/Desktop/Programare Python/.git/objects/7e/334d38a05465eebc9e9647a1b1afede0ae1733\n",
      "Can't read this file: C:/Users/Lucian/Desktop/Programare Python/.git/objects/84/88e6ee91165540c823d01870faec2df4e7be02\n",
      "Can't read this file: C:/Users/Lucian/Desktop/Programare Python/.git/objects/8a/14caf868c7a7faf84862d212d3e1d627a51180\n",
      "Can't read this file: C:/Users/Lucian/Desktop/Programare Python/.git/objects/91/e3a27c5481b83ee269991b3a26bd0ed5ffdf45\n",
      "Can't read this file: C:/Users/Lucian/Desktop/Programare Python/.git/objects/9d/2f30a46ac1587697999d309111866f1f683720\n",
      "Can't read this file: C:/Users/Lucian/Desktop/Programare Python/.git/objects/ac/6e602fe2875d439257195937c069c29c9d0dbb\n",
      "Can't read this file: C:/Users/Lucian/Desktop/Programare Python/.git/objects/ae/f319a51e8c42c661f920c73f3ec773871523d4\n",
      "Can't read this file: C:/Users/Lucian/Desktop/Programare Python/.git/objects/b0/ad2557408a0f23c0b94dacea5f0e5760282214\n",
      "Can't read this file: C:/Users/Lucian/Desktop/Programare Python/.git/objects/b3/b5f7f4d1eb590ff7f14385d3643cb672108d36\n",
      "Can't read this file: C:/Users/Lucian/Desktop/Programare Python/.git/objects/be/0eba851460b16cb6551cc8d112a718f7f7ec38\n",
      "Can't read this file: C:/Users/Lucian/Desktop/Programare Python/.git/objects/bf/66ad03d838dcbb1c7da646f051d4e15289cc98\n",
      "Can't read this file: C:/Users/Lucian/Desktop/Programare Python/.git/objects/c6/89d6a36638aa44346709afe9a85bbebe1f66d7\n",
      "Can't read this file: C:/Users/Lucian/Desktop/Programare Python/.git/objects/d1/558c127ea31405006602ffc38fc5b498445194\n",
      "Can't read this file: C:/Users/Lucian/Desktop/Programare Python/.git/objects/d6/79f8b8c533f3faf3e6f83319ca7b6454002334\n",
      "Can't read this file: C:/Users/Lucian/Desktop/Programare Python/.git/objects/dc/271e6732a8396a5f8562f7f9d496a5b272940a\n",
      "Can't read this file: C:/Users/Lucian/Desktop/Programare Python/.git/objects/e8/59eed039f1b3ea0612a4e93a4f19cc12cff25c\n",
      "Can't read this file: C:/Users/Lucian/Desktop/Programare Python/.git/objects/fa/2f2e51ce71f319635f5c665bb1fa0e8c835df8\n",
      "Can't read this file: C:/Users/Lucian/Desktop/Programare Python/.git/objects/fb/34736f8839bf3bda0846a3a773651bb92fb509\n",
      "C:/Users/Lucian/Desktop/Programare Python/.ipynb_checkpoints/Lab1-checkpoint.ipynb\n",
      "C:/Users/Lucian/Desktop/Programare Python/.ipynb_checkpoints/Lab4-checkpoint.ipynb\n",
      "C:/Users/Lucian/Desktop/Programare Python/Ana are mere.txt\n",
      "C:/Users/Lucian/Desktop/Programare Python/bs.txt\n",
      "C:/Users/Lucian/Desktop/Programare Python/Lab1.ipynb\n",
      "C:/Users/Lucian/Desktop/Programare Python/Lab4.ipynb\n",
      "Can't read this file: C:/Users/Lucian/Desktop/Programare Python/mnist.pkl.gz\n",
      "C:/Users/Lucian/Desktop/Programare Python/test.txt\n"
     ]
    },
    {
     "data": {
      "text/plain": [
       "['C:/Users/Lucian/Desktop/Programare Python/.ipynb_checkpoints/Lab1-checkpoint.ipynb',\n",
       " 'C:/Users/Lucian/Desktop/Programare Python/.ipynb_checkpoints/Lab4-checkpoint.ipynb',\n",
       " 'C:/Users/Lucian/Desktop/Programare Python/Ana are mere.txt',\n",
       " 'C:/Users/Lucian/Desktop/Programare Python/bs.txt',\n",
       " 'C:/Users/Lucian/Desktop/Programare Python/Lab1.ipynb',\n",
       " 'C:/Users/Lucian/Desktop/Programare Python/Lab4.ipynb',\n",
       " 'C:/Users/Lucian/Desktop/Programare Python/test.txt']"
      ]
     },
     "execution_count": 114,
     "metadata": {},
     "output_type": "execute_result"
    }
   ],
   "source": [
    "target_search(\"C:/Users/Lucian/Desktop/Programare Python\",\"mere\")"
   ]
  },
  {
   "cell_type": "markdown",
   "id": "9b8ba052",
   "metadata": {},
   "source": [
    "6. Să se scrie o funcție care are același comportament ca funcția de la exercițiul anterior, cu diferența că primește un parametru în plus: o funcție callback, care primește un parametru, iar pentru fiecare eroare apărută în procesarea fișierelor, se va apela funcția respectivă cu instanța excepției ca parametru."
   ]
  },
  {
   "cell_type": "code",
   "execution_count": 139,
   "id": "07f986f4",
   "metadata": {},
   "outputs": [],
   "source": [
    "def callback_fct(inst):\n",
    "        print(\"Invalid target: \"+inst)\n",
    "\n",
    "results = []\n",
    "def target_search_2(target, to_search, callback_fct):\n",
    "    import os\n",
    "    global results\n",
    "    if os.path.isfile(target):\n",
    "        try:    \n",
    "            with open(target,\"r\") as fh:\n",
    "                fh = fh.read()\n",
    "                if to_search in fh:\n",
    "                    results = results + [target]\n",
    "        except ValueError:\n",
    "            callback_fct(target)\n",
    "    elif os.path.isdir(target):\n",
    "        for new_target in os.listdir(target):\n",
    "            target_search_2(target+\"/\"+new_target,to_search,callback_fct)\n",
    "    return results\n",
    "    "
   ]
  },
  {
   "cell_type": "code",
   "execution_count": 140,
   "id": "2e9e7bcd",
   "metadata": {},
   "outputs": [
    {
     "name": "stdout",
     "output_type": "stream",
     "text": [
      "Invalid target: C:/Users/Lucian/Desktop/Programare Python/.git/index\n",
      "Invalid target: C:/Users/Lucian/Desktop/Programare Python/.git/objects/05/9aba0d982e20e2ac125a3a59d89c3c2cd8b28a\n",
      "Invalid target: C:/Users/Lucian/Desktop/Programare Python/.git/objects/0a/b76175582905a9a5a6d241a7dcb7210dbc8383\n",
      "Invalid target: C:/Users/Lucian/Desktop/Programare Python/.git/objects/20/788744f229d35bba22ace4ffd6f12ac72ab316\n",
      "Invalid target: C:/Users/Lucian/Desktop/Programare Python/.git/objects/29/8b330c6bc68eb1df61b4aeb29d86858f06379f\n",
      "Invalid target: C:/Users/Lucian/Desktop/Programare Python/.git/objects/2c/da82fca532188ea5f193da52c61da538c061ed\n",
      "Invalid target: C:/Users/Lucian/Desktop/Programare Python/.git/objects/37/f3cb31b69fe0b0d5bfc5193c1336c5d9ef1944\n",
      "Invalid target: C:/Users/Lucian/Desktop/Programare Python/.git/objects/4a/925e78cd432ef8ab07035112dd6ccf6261a2d0\n",
      "Invalid target: C:/Users/Lucian/Desktop/Programare Python/.git/objects/61/6e5aea163920c331d790938b12fb9431071035\n",
      "Invalid target: C:/Users/Lucian/Desktop/Programare Python/.git/objects/62/5e63b64307dd48a1ab380093133ddaead591a7\n",
      "Invalid target: C:/Users/Lucian/Desktop/Programare Python/.git/objects/6f/4e8b6649e843d284daa68d921ab9f86aab73eb\n",
      "Invalid target: C:/Users/Lucian/Desktop/Programare Python/.git/objects/7e/334d38a05465eebc9e9647a1b1afede0ae1733\n",
      "Invalid target: C:/Users/Lucian/Desktop/Programare Python/.git/objects/84/88e6ee91165540c823d01870faec2df4e7be02\n",
      "Invalid target: C:/Users/Lucian/Desktop/Programare Python/.git/objects/8a/14caf868c7a7faf84862d212d3e1d627a51180\n",
      "Invalid target: C:/Users/Lucian/Desktop/Programare Python/.git/objects/91/e3a27c5481b83ee269991b3a26bd0ed5ffdf45\n",
      "Invalid target: C:/Users/Lucian/Desktop/Programare Python/.git/objects/9d/2f30a46ac1587697999d309111866f1f683720\n",
      "Invalid target: C:/Users/Lucian/Desktop/Programare Python/.git/objects/ac/6e602fe2875d439257195937c069c29c9d0dbb\n",
      "Invalid target: C:/Users/Lucian/Desktop/Programare Python/.git/objects/ae/f319a51e8c42c661f920c73f3ec773871523d4\n",
      "Invalid target: C:/Users/Lucian/Desktop/Programare Python/.git/objects/b0/ad2557408a0f23c0b94dacea5f0e5760282214\n",
      "Invalid target: C:/Users/Lucian/Desktop/Programare Python/.git/objects/b3/b5f7f4d1eb590ff7f14385d3643cb672108d36\n",
      "Invalid target: C:/Users/Lucian/Desktop/Programare Python/.git/objects/be/0eba851460b16cb6551cc8d112a718f7f7ec38\n",
      "Invalid target: C:/Users/Lucian/Desktop/Programare Python/.git/objects/bf/66ad03d838dcbb1c7da646f051d4e15289cc98\n",
      "Invalid target: C:/Users/Lucian/Desktop/Programare Python/.git/objects/c6/89d6a36638aa44346709afe9a85bbebe1f66d7\n",
      "Invalid target: C:/Users/Lucian/Desktop/Programare Python/.git/objects/d1/558c127ea31405006602ffc38fc5b498445194\n",
      "Invalid target: C:/Users/Lucian/Desktop/Programare Python/.git/objects/d6/79f8b8c533f3faf3e6f83319ca7b6454002334\n",
      "Invalid target: C:/Users/Lucian/Desktop/Programare Python/.git/objects/dc/271e6732a8396a5f8562f7f9d496a5b272940a\n",
      "Invalid target: C:/Users/Lucian/Desktop/Programare Python/.git/objects/e8/59eed039f1b3ea0612a4e93a4f19cc12cff25c\n",
      "Invalid target: C:/Users/Lucian/Desktop/Programare Python/.git/objects/fa/2f2e51ce71f319635f5c665bb1fa0e8c835df8\n",
      "Invalid target: C:/Users/Lucian/Desktop/Programare Python/.git/objects/fb/34736f8839bf3bda0846a3a773651bb92fb509\n",
      "Invalid target: C:/Users/Lucian/Desktop/Programare Python/mnist.pkl.gz\n"
     ]
    },
    {
     "data": {
      "text/plain": [
       "['C:/Users/Lucian/Desktop/Programare Python/.ipynb_checkpoints/Lab1-checkpoint.ipynb',\n",
       " 'C:/Users/Lucian/Desktop/Programare Python/.ipynb_checkpoints/Lab4-checkpoint.ipynb',\n",
       " 'C:/Users/Lucian/Desktop/Programare Python/Ana are mere.txt',\n",
       " 'C:/Users/Lucian/Desktop/Programare Python/bs.txt',\n",
       " 'C:/Users/Lucian/Desktop/Programare Python/Lab1.ipynb',\n",
       " 'C:/Users/Lucian/Desktop/Programare Python/Lab4.ipynb',\n",
       " 'C:/Users/Lucian/Desktop/Programare Python/test.txt']"
      ]
     },
     "execution_count": 140,
     "metadata": {},
     "output_type": "execute_result"
    }
   ],
   "source": [
    "target_search_2(\"C:/Users/Lucian/Desktop/Programare Python\",\"mere\",callback_fct)"
   ]
  },
  {
   "cell_type": "markdown",
   "id": "72b96298",
   "metadata": {},
   "source": [
    "7. \tSă se scrie o funcție care primește ca parametru un șir de caractere care reprezintă calea către un fișer si returnează un dicționar cu următoarele cămpuri: full_path = calea absoluta catre fisier, file_size = dimensiunea fisierului in octeti, file_extension = extensia fisierului (daca are) sau \"\", can_read, can_write = True/False daca se poate citi din/scrie in fisier."
   ]
  },
  {
   "cell_type": "code",
   "execution_count": 163,
   "id": "fae2a1e0",
   "metadata": {},
   "outputs": [],
   "source": [
    "# Surse:\n",
    "    # https://www.geeksforgeeks.org/how-to-get-size-of-folder-using-python/\n",
    "def info_dict(my_path):\n",
    "    import os\n",
    "    rezult = {}\n",
    "    rezult[\"full_path\"] = my_path\n",
    "    # file size\n",
    "    size = 0\n",
    "    for path, dirs, files in os.walk(my_path):\n",
    "        for f in files:\n",
    "            fp = os.path.join(path,f)\n",
    "            size = size + os.stat(fp).st_size\n",
    "    rezult[\"file_size\"] = size\n",
    "    # file extension\n",
    "    splt = my_path.split(\".\")\n",
    "    if len(splt) == 1:\n",
    "        rezult[\"file_extension\"] = \"\"\n",
    "    else:\n",
    "        rezult[\"file_extension\"] = splt[1]\n",
    "    \n",
    "    # can read\n",
    "    try:\n",
    "        with open(my_path,\"r\"):\n",
    "            rezult[\"can_read\"] = \"True\"\n",
    "    except:\n",
    "        rezult[\"can_read\"] = \"False\"\n",
    "        \n",
    "    # can write\n",
    "    try:\n",
    "        with open(my_path,\"w\"):\n",
    "            rezult[\"can_write\"] = \"True\"\n",
    "    except:\n",
    "        rezult[\"can_write\"] = \"False\"\n",
    "    return rezult"
   ]
  },
  {
   "cell_type": "code",
   "execution_count": 165,
   "id": "0e99f905",
   "metadata": {},
   "outputs": [
    {
     "data": {
      "text/plain": [
       "{'full_path': 'C:/Users/Lucian/Desktop/Programare Python/Lab1.ipynb',\n",
       " 'file_size': 0,\n",
       " 'file_extension': 'ipynb',\n",
       " 'can_read': 'True',\n",
       " 'can_write': 'True'}"
      ]
     },
     "execution_count": 165,
     "metadata": {},
     "output_type": "execute_result"
    }
   ],
   "source": [
    "info_dict(\"C:/Users/Lucian/Desktop/Programare Python/Lab1.ipynb\")"
   ]
  },
  {
   "cell_type": "markdown",
   "id": "b9df9401",
   "metadata": {},
   "source": [
    "8. Să se scrie o funcție ce primește un parametru cu numele dir_path. Acest parametru reprezintă calea către un director aflat pe disc. Funcția va returna o listă cu toate căile absolute ale fișierelor aflate în rădăcina directorului dir_path.\n",
    "\n",
    "Exemplu apel funcție: functie(\"C:\\\\director\") va returna [\"C:\\\\director\\\\fisier1.txt\", \"C:\\\\director\\\\fisier2.txt\"]"
   ]
  },
  {
   "cell_type": "code",
   "execution_count": 167,
   "id": "6f3e596f",
   "metadata": {},
   "outputs": [],
   "source": [
    "def all_paths(dir_path):\n",
    "    import os\n",
    "    # validare\n",
    "    if not os.path.isdir(dir_path):\n",
    "        print(\"Path not valid, or path doesn't point to a directory!\")\n",
    "        return\n",
    "    all_docs = os.listdir(dir_path)\n",
    "    rezultat = [dir_path+\"/\"+f for f in all_docs if os.path.isfile(f)]\n",
    "    return rezultat"
   ]
  },
  {
   "cell_type": "code",
   "execution_count": 169,
   "id": "f6462639",
   "metadata": {},
   "outputs": [
    {
     "data": {
      "text/plain": [
       "['C:/Users/Lucian/Desktop/Programare Python//Abcdef.vsdx',\n",
       " 'C:/Users/Lucian/Desktop/Programare Python//Ana are mere.txt',\n",
       " 'C:/Users/Lucian/Desktop/Programare Python//Auch.bmp',\n",
       " 'C:/Users/Lucian/Desktop/Programare Python//bs.txt',\n",
       " 'C:/Users/Lucian/Desktop/Programare Python//calculator entropii conditionale medii.ipynb',\n",
       " 'C:/Users/Lucian/Desktop/Programare Python//Lab1.ipynb',\n",
       " 'C:/Users/Lucian/Desktop/Programare Python//Lab2.ipynb',\n",
       " 'C:/Users/Lucian/Desktop/Programare Python//Lab3.ipynb',\n",
       " 'C:/Users/Lucian/Desktop/Programare Python//Lab4.ipynb',\n",
       " 'C:/Users/Lucian/Desktop/Programare Python//mnist.pkl.gz',\n",
       " 'C:/Users/Lucian/Desktop/Programare Python//rn_testare.ipynb',\n",
       " 'C:/Users/Lucian/Desktop/Programare Python//test.txt']"
      ]
     },
     "execution_count": 169,
     "metadata": {},
     "output_type": "execute_result"
    }
   ],
   "source": [
    "all_paths(\"C:/Users/Lucian/Desktop/Programare Python/\")"
   ]
  },
  {
   "cell_type": "code",
   "execution_count": null,
   "id": "4f2ff869",
   "metadata": {},
   "outputs": [],
   "source": []
  }
 ],
 "metadata": {
  "kernelspec": {
   "display_name": "Python 3 (ipykernel)",
   "language": "python",
   "name": "python3"
  },
  "language_info": {
   "codemirror_mode": {
    "name": "ipython",
    "version": 3
   },
   "file_extension": ".py",
   "mimetype": "text/x-python",
   "name": "python",
   "nbconvert_exporter": "python",
   "pygments_lexer": "ipython3",
   "version": "3.9.7"
  }
 },
 "nbformat": 4,
 "nbformat_minor": 5
}
