{
 "cells": [
  {
   "cell_type": "markdown",
   "id": "93859824",
   "metadata": {},
   "source": [
    "1. Să se scrie o funcție ce primeste un singur parametru, director, ce reprezintă calea către un director. \n",
    "\n",
    "Funcția returnează o listă cu extensiile unice sortate crescator (in ordine alfabetica) a fișierelor din directorul dat ca parametru.\n",
    "\n",
    "Mențiune: extensia fișierului ‘fisier.txt’ este ‘txt’ "
   ]
  },
  {
   "cell_type": "code",
   "execution_count": 18,
   "id": "3e65992e",
   "metadata": {},
   "outputs": [],
   "source": [
    "def get_extensions(path):\n",
    "    import os\n",
    "    import re\n",
    "    all_files = os.listdir(path)\n",
    "    extensions = [f.split(\".\")[-1] for f in all_files if \".\" in f]\n",
    "    return set(extensions)\n",
    "    #return all_files"
   ]
  },
  {
   "cell_type": "code",
   "execution_count": 20,
   "id": "0f78abb1",
   "metadata": {},
   "outputs": [
    {
     "name": "stdout",
     "output_type": "stream",
     "text": [
      "Extensiile fisierelor de pe Desktop sunt:  {'pdf', 'xlsx', 'docx', 'jpg', 'lnk', 'ini', 'url', 'txt'}\n"
     ]
    }
   ],
   "source": [
    "print(\"Extensiile fisierelor de pe Desktop sunt: \",get_extensions(\"C:/Users/Lucian/Desktop\"))"
   ]
  },
  {
   "cell_type": "markdown",
   "id": "705f889b",
   "metadata": {},
   "source": [
    "2. Să se scrie o funcție ce primește ca argumente două căi: director si fișier. \n",
    "\n",
    "Implementati functia astfel încât în fișierul de la calea fișier să fie scrisă pe câte o linie, calea absolută a fiecărui fișier din interiorul directorului de la calea folder, ce incepe cu litera A. "
   ]
  },
  {
   "cell_type": "code",
   "execution_count": 45,
   "id": "7bc0333c",
   "metadata": {},
   "outputs": [],
   "source": [
    "def weird_function(director, fisier):\n",
    "    import os\n",
    "    import re\n",
    "    try:\n",
    "        fhandle = open(fisier,\"w\")\n",
    "    except:\n",
    "        print(\"Path incorect! Fisierul nu poate fi deschis\")\n",
    "    all_paths = [director+\"/\"+fname for fname in os.listdir(director) if os.path.isfile(os.path.join(director,fname)) and fname.startswith(\"A\")]\n",
    "    for pth in all_paths:\n",
    "        fhandle.write(pth+\"\\n\")\n",
    "    "
   ]
  },
  {
   "cell_type": "code",
   "execution_count": 46,
   "id": "f8d53b10",
   "metadata": {},
   "outputs": [],
   "source": [
    "# Tested and it works\n",
    "weird_function(\"C:/Users/Lucian/Desktop/Programare Python\",\"C:/Users/Lucian/Desktop/Programare Python/test.txt\")"
   ]
  },
  {
   "cell_type": "markdown",
   "id": "cbafcc46",
   "metadata": {},
   "source": [
    "3. Să se scrie o funcție ce primește ca parametru un string my_path.\n",
    "\n",
    "Dacă parametrul reprezintă calea către un fișier, se vor returna ultimele 20 de caractere din conținutul fișierului. Dacă parametrul reprezintă calea către un director, se va returna o listă de tuple (extensie, count), sortată descrescător după count, unde extensie reprezintă extensie de fișier, iar count - numărul de fișiere cu acea extensie. Lista se obține din toate fișierele (recursiv) din directorul dat ca parametru. "
   ]
  },
  {
   "cell_type": "code",
   "execution_count": 84,
   "id": "abeb9401",
   "metadata": {},
   "outputs": [],
   "source": [
    "# Helper function:\n",
    "def extensions_fct(path):\n",
    "    import os\n",
    "    import re\n",
    "    global ext\n",
    "    all_files = os.listdir(path)\n",
    "    extensions = [f.split(\".\")[-1] for f in all_files if \".\" in f]\n",
    "    ext = ext + extensions\n",
    "    folders = [path+'/'+fd for fd in all_files if os.path.isdir(path+'/'+fd)]\n",
    "    for fd in folders:\n",
    "        extensions_fct(fd)\n",
    "    return ext\n",
    "\n",
    "def another_weird_function(my_path):\n",
    "    import os\n",
    "    global ext\n",
    "    import collections\n",
    "    ext = []\n",
    "    if os.path.isfile(my_path):\n",
    "        with open(my_path,\"r\") as mf:\n",
    "            return mf.read()[-20:]\n",
    "    if os.path.isdir(my_path):\n",
    "        extensions_fct(my_path)\n",
    "    frequency = collections.Counter(ext).most_common()\n",
    "    return frequency"
   ]
  },
  {
   "cell_type": "code",
   "execution_count": 85,
   "id": "5443a9a8",
   "metadata": {},
   "outputs": [
    {
     "data": {
      "text/plain": [
       "[('pdf', 43),\n",
       " ('ipynb', 42),\n",
       " ('jpg', 35),\n",
       " ('sample', 26),\n",
       " ('lnk', 13),\n",
       " ('txt', 9),\n",
       " ('url', 5),\n",
       " ('ipynb_checkpoints', 4),\n",
       " ('docx', 3),\n",
       " ('git', 2),\n",
       " ('gz', 2),\n",
       " ('xlsx', 1),\n",
       " ('ini', 1),\n",
       " ('doc', 1),\n",
       " ('PDF', 1),\n",
       " ('html', 1),\n",
       " ('vsdx', 1),\n",
       " ('bmp', 1)]"
      ]
     },
     "execution_count": 85,
     "metadata": {},
     "output_type": "execute_result"
    }
   ],
   "source": [
    "another_weird_function(\"C:/Users/Lucian/Desktop/Programare Python/test.txt\")\n",
    "another_weird_function(\"C:/Users/Lucian/Desktop\")"
   ]
  },
  {
   "cell_type": "markdown",
   "id": "515790b0",
   "metadata": {},
   "source": [
    "4. Să se scrie o funcție ce returnează o listă cu extensiile unice a fișierelor din directorul dat ca argument la linia de comandă (nerecursiv). Lista trebuie să fie sortată crescător.\n",
    "\n",
    "Mențiune: extensia fișierului ‘fisier.txt’ este ‘txt’, iar ‘fisier’ nu are extensie, deci nu va apărea în lista finală. "
   ]
  },
  {
   "cell_type": "code",
   "execution_count": 92,
   "id": "9357f33b",
   "metadata": {},
   "outputs": [],
   "source": [
    "def this_again(my_path):\n",
    "    import os\n",
    "    if not os.path.isdir(my_path):\n",
    "        print(\"Path invalid! Cannot read directory!\")\n",
    "        return 0\n",
    "    all_ext = [f.split(\".\")[1] for f in os.listdir(my_path) if os.path.isfile(my_path+\"/\"+f) and \".\" in f]\n",
    "    return sorted(list(set(all_ext)))"
   ]
  },
  {
   "cell_type": "code",
   "execution_count": 93,
   "id": "642d6442",
   "metadata": {},
   "outputs": [
    {
     "data": {
      "text/plain": [
       "['bmp', 'ipynb', 'pkl', 'txt', 'vsdx']"
      ]
     },
     "execution_count": 93,
     "metadata": {},
     "output_type": "execute_result"
    }
   ],
   "source": [
    "this_again(\"C:/Users/Lucian/Desktop/Programare Python\")"
   ]
  },
  {
   "cell_type": "code",
   "execution_count": null,
   "id": "80b9c5b1",
   "metadata": {},
   "outputs": [],
   "source": []
  }
 ],
 "metadata": {
  "kernelspec": {
   "display_name": "Python 3 (ipykernel)",
   "language": "python",
   "name": "python3"
  },
  "language_info": {
   "codemirror_mode": {
    "name": "ipython",
    "version": 3
   },
   "file_extension": ".py",
   "mimetype": "text/x-python",
   "name": "python",
   "nbconvert_exporter": "python",
   "pygments_lexer": "ipython3",
   "version": "3.9.7"
  }
 },
 "nbformat": 4,
 "nbformat_minor": 5
}
