{
 "cells": [
  {
   "cell_type": "markdown",
   "id": "56b88743",
   "metadata": {},
   "source": [
    "1. Find The greatest common divisor of multiple numbers read from the console."
   ]
  },
  {
   "cell_type": "code",
   "execution_count": null,
   "id": "daaf7068",
   "metadata": {},
   "outputs": [],
   "source": []
  }
 ],
 "metadata": {
  "kernelspec": {
   "display_name": "Python 3 (ipykernel)",
   "language": "python",
   "name": "python3"
  },
  "language_info": {
   "codemirror_mode": {
    "name": "ipython",
    "version": 3
   },
   "file_extension": ".py",
   "mimetype": "text/x-python",
   "name": "python",
   "nbconvert_exporter": "python",
   "pygments_lexer": "ipython3",
   "version": "3.9.7"
  }
 },
 "nbformat": 4,
 "nbformat_minor": 5
}
