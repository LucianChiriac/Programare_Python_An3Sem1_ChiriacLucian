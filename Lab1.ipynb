{
 "cells": [
  {
   "cell_type": "code",
   "execution_count": 2,
   "id": "15292c22",
   "metadata": {},
   "outputs": [],
   "source": [
    "import math\n",
    "import numpy as np\n",
    "import re"
   ]
  },
  {
   "cell_type": "markdown",
   "id": "15bba4fc",
   "metadata": {},
   "source": [
    "1. Find The greatest common divisor of multiple numbers read from the console."
   ]
  },
  {
   "cell_type": "code",
   "execution_count": 10,
   "id": "3fb79d1c",
   "metadata": {},
   "outputs": [
    {
     "name": "stdout",
     "output_type": "stream",
     "text": [
      "14 21 23 18 25\n",
      "Cel mai mare divizor comun este:  1\n"
     ]
    }
   ],
   "source": [
    "numere = input()\n",
    "numere = np.array(numere.split(\" \")).astype(int)\n",
    "print(\"Cel mai mare divizor comun este: \",math.gcd(*numere))\n",
    "\n",
    "## https://stackoverflow.com/questions/29194588/python-gcd-for-list"
   ]
  },
  {
   "cell_type": "markdown",
   "id": "1812028b",
   "metadata": {},
   "source": [
    "2. Write a script that calculates how many vowels are in a string."
   ]
  },
  {
   "cell_type": "code",
   "execution_count": 3,
   "id": "e92fc349",
   "metadata": {},
   "outputs": [
    {
     "name": "stdout",
     "output_type": "stream",
     "text": [
      "aa\n",
      "Textul contine  2 vocale.\n"
     ]
    }
   ],
   "source": [
    "text = input()\n",
    "text = text.lower()\n",
    "cnt = 0\n",
    "for char in text:\n",
    "    if char in [\"a\",\"e\",\"i\",\"o\",\"u\"]:\n",
    "        cnt+=1\n",
    "print(\"Textul contine \",cnt,\"vocale.\")"
   ]
  },
  {
   "cell_type": "markdown",
   "id": "51adb3ec",
   "metadata": {},
   "source": [
    "3. Write a script that receives two strings and prints the number of occurrences of the first string in the second."
   ]
  },
  {
   "cell_type": "code",
   "execution_count": 4,
   "id": "ebfe1f3b",
   "metadata": {},
   "outputs": [
    {
     "name": "stdout",
     "output_type": "stream",
     "text": [
      "aa\n",
      "baaAnaaaa\n",
      "Primul string apare in cel de-al doile de  3 ori.\n"
     ]
    }
   ],
   "source": [
    "str1 = input()\n",
    "str2 = input()\n",
    "print(\"Primul string apare in cel de-al doile de \",len(re.findall(str1,str2)),\"ori.\")"
   ]
  },
  {
   "cell_type": "markdown",
   "id": "7c927d62",
   "metadata": {},
   "source": [
    "4. Write a script that converts a string of characters written in UpperCamelCase into lowercase_with_underscores."
   ]
  },
  {
   "cell_type": "code",
   "execution_count": 96,
   "id": "90c5be3f",
   "metadata": {},
   "outputs": [
    {
     "name": "stdout",
     "output_type": "stream",
     "text": [
      "thisIsASampleText\n",
      "['is', 'a', 'sample', 'text']\n",
      "is_a_sample_text\n"
     ]
    }
   ],
   "source": [
    "text = input()\n",
    "#words = re.split('(?=[A-Z])',text)\n",
    "words = re.findall('[A-Z][a-z]*',text) # takes only words starting with uppercase\n",
    "words = [x.lower() for x in words] # converts to lowercase\n",
    "print(words)\n",
    "underscores = (\"_\".join(words)) \n",
    "print(underscores)\n",
    "\n",
    "## https://pythonguides.com/concatenate-strings-in-python/#:~:text=Python%20concatenate%20strings%20with%20a%20separator,-Now%2C%20we%20will&text=We%20can%20also%20concatenate%20the%20strings%20by%20using%20the%20'%2C',a%20comma%20as%20a%20separator.&text=To%20get%20the%20output%2C%20I%20have%20used%20print(str)."
   ]
  },
  {
   "cell_type": "markdown",
   "id": "1b5e4b21",
   "metadata": {},
   "source": [
    "5. Given a square matrix of characters write a script that prints the string obtained by going through the matrix in spiral order (as in the example):\n",
    "firs      1  2  3  4    =>   first_python_lab\n",
    "n_lt      12 13 14 5\n",
    "oba_      11 16 15 6\n",
    "htyp      10 9  8  7"
   ]
  },
  {
   "cell_type": "code",
   "execution_count": 52,
   "id": "b730496c",
   "metadata": {},
   "outputs": [
    {
     "data": {
      "text/plain": [
       "'first_python_lab'"
      ]
     },
     "execution_count": 52,
     "metadata": {},
     "output_type": "execute_result"
    }
   ],
   "source": [
    "matrix = [[\"f\",\"i\",\"r\",\"s\"],[\"n\",\"_\",\"l\",\"t\"],[\"o\",\"b\",\"a\",\"_\"],[\"h\",\"t\",\"y\",\"p\"]]\n",
    "def print_spiral(matrice):\n",
    "    result = \"\"\n",
    "    l = len(matrix)\n",
    "    c = len(matrix[0])\n",
    "    for i in range(l//2+1):\n",
    "        for x in range(i,c-i):\n",
    "            result+=(matrix[i][x])\n",
    "        for x in range(i+1,l-i-1):\n",
    "            result+=matrix[x][c-i-1]\n",
    "        for x in range(c-i-1,i-1,-1):\n",
    "            result+=matrix[l-i-1][x]\n",
    "        for x in range(l-i-2,i,-1):\n",
    "            result+=matrix[x][i]\n",
    "    return result\n",
    "print_spiral(matrix)"
   ]
  },
  {
   "cell_type": "markdown",
   "id": "458fab23",
   "metadata": {},
   "source": [
    "6. Write a function that validates if a number is a palindrome."
   ]
  },
  {
   "cell_type": "code",
   "execution_count": 53,
   "id": "bca9bff3",
   "metadata": {},
   "outputs": [],
   "source": [
    "def palindrom(number):\n",
    "    invs = 0\n",
    "    copy = number\n",
    "    while copy:\n",
    "        invs = invs*10+copy%10\n",
    "        copy = copy //10\n",
    "    if invs == number:\n",
    "        return True\n",
    "    return False\n"
   ]
  },
  {
   "cell_type": "code",
   "execution_count": 59,
   "id": "6c4ca327",
   "metadata": {},
   "outputs": [
    {
     "name": "stdout",
     "output_type": "stream",
     "text": [
      "True\n"
     ]
    }
   ],
   "source": [
    "print(palindrom(123515321))"
   ]
  },
  {
   "cell_type": "markdown",
   "id": "abe4cbc9",
   "metadata": {},
   "source": [
    "7. Write a function that extract a number from a text (for example if the text is \"An apple is 123 USD\", this function will return 123, or if the text is \"abc123abc\" the function will extract 123). The function will extract only the first number that is found."
   ]
  },
  {
   "cell_type": "code",
   "execution_count": 69,
   "id": "2623442e",
   "metadata": {},
   "outputs": [
    {
     "name": "stdout",
     "output_type": "stream",
     "text": [
      "123\n",
      "123\n"
     ]
    }
   ],
   "source": [
    "import re\n",
    "text = \"An apple is 123 USD\"\n",
    "\n",
    "def extractNumber(text):\n",
    "    return re.search(\"[1-9]+\",text).group()\n",
    "\n",
    "print(extractNumber(text))\n",
    "print(extractNumber(\"abc123abc55\"))"
   ]
  },
  {
   "cell_type": "markdown",
   "id": "b680da5a",
   "metadata": {},
   "source": [
    "8. Write a function that counts how many bits with value 1 a number has. For example for number 24, the binary format is 00011000, meaning 2 bits with value \"1\""
   ]
  },
  {
   "cell_type": "code",
   "execution_count": 81,
   "id": "27125412",
   "metadata": {},
   "outputs": [],
   "source": [
    "def count_bits(number):\n",
    "    bitstring = bin(number)[2:]\n",
    "    return(len(re.findall(\"1\",bitstring)))"
   ]
  },
  {
   "cell_type": "code",
   "execution_count": 84,
   "id": "07b1adaa",
   "metadata": {},
   "outputs": [
    {
     "name": "stdout",
     "output_type": "stream",
     "text": [
      "24 are 2 de 1 in reprezentarea binara\n"
     ]
    }
   ],
   "source": [
    "print(\"24 are\",count_bits(24),\"de 1 in reprezentarea binara\")"
   ]
  },
  {
   "cell_type": "markdown",
   "id": "5ce1a4c6",
   "metadata": {},
   "source": [
    "9. Write a functions that determine the most common letter in a string. For example if the string is \"an apple is not a tomato\", then the most common character is \"a\" (4 times). Only letters (A-Z or a-z) are to be considered. Casing should not be considered \"A\" and \"a\" represent the same character."
   ]
  },
  {
   "cell_type": "code",
   "execution_count": 119,
   "id": "d05f6da1",
   "metadata": {},
   "outputs": [],
   "source": [
    "## https://stackoverflow.com/questions/1155617/count-the-number-of-occurrences-of-a-character-in-a-string\n",
    "\n",
    "from collections import Counter\n",
    "def most_common_letter(text):\n",
    "    counts = Counter(char for char in text.lower() if char.isalpha())  # isalpha() checks if it's an alphabetic character\n",
    "    return counts.most_common(1)[0]"
   ]
  },
  {
   "cell_type": "code",
   "execution_count": 120,
   "id": "944e7242",
   "metadata": {},
   "outputs": [
    {
     "data": {
      "text/plain": [
       "('a', 4)"
      ]
     },
     "execution_count": 120,
     "metadata": {},
     "output_type": "execute_result"
    }
   ],
   "source": [
    "most_common_letter(\"an apple is not a tomato\")"
   ]
  },
  {
   "cell_type": "markdown",
   "id": "c6cd7264",
   "metadata": {},
   "source": [
    "10. Write a function that counts how many words exists in a text. A text is considered to be form out of words that are separated by only ONE space. For example: \"I have Python exam\" has 4 words."
   ]
  },
  {
   "cell_type": "code",
   "execution_count": 128,
   "id": "3816df98",
   "metadata": {},
   "outputs": [],
   "source": [
    "def word_counter(text):\n",
    "    return len(text.split())"
   ]
  },
  {
   "cell_type": "code",
   "execution_count": 129,
   "id": "7b061482",
   "metadata": {},
   "outputs": [
    {
     "data": {
      "text/plain": [
       "4"
      ]
     },
     "execution_count": 129,
     "metadata": {},
     "output_type": "execute_result"
    }
   ],
   "source": [
    "word_counter(\"I have Python exam\")"
   ]
  }
 ],
 "metadata": {
  "kernelspec": {
   "display_name": "Python 3 (ipykernel)",
   "language": "python",
   "name": "python3"
  },
  "language_info": {
   "codemirror_mode": {
    "name": "ipython",
    "version": 3
   },
   "file_extension": ".py",
   "mimetype": "text/x-python",
   "name": "python",
   "nbconvert_exporter": "python",
   "pygments_lexer": "ipython3",
   "version": "3.9.7"
  }
 },
 "nbformat": 4,
 "nbformat_minor": 5
}
