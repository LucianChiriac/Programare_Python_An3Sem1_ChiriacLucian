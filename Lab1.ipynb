{
 "cells": [
  {
   "cell_type": "code",
   "execution_count": 22,
   "id": "fd780c1f",
   "metadata": {},
   "outputs": [],
   "source": [
    "import math\n",
    "import numpy as np\n",
    "import re"
   ]
  },
  {
   "cell_type": "markdown",
   "id": "b72fde2b",
   "metadata": {},
   "source": [
    "1. Find The greatest common divisor of multiple numbers read from the console."
   ]
  },
  {
   "cell_type": "code",
   "execution_count": 10,
   "id": "e5cd7f1e",
   "metadata": {},
   "outputs": [
    {
     "name": "stdout",
     "output_type": "stream",
     "text": [
      "14 21 23 18 25\n",
      "Cel mai mare divizor comun este:  1\n"
     ]
    }
   ],
   "source": [
    "numere = input()\n",
    "numere = np.array(numere.split(\" \")).astype(int)\n",
    "print(\"Cel mai mare divizor comun este: \",math.gcd(*numere))\n",
    "\n",
    "## https://stackoverflow.com/questions/29194588/python-gcd-for-list"
   ]
  },
  {
   "cell_type": "markdown",
   "id": "bfdee4d4",
   "metadata": {},
   "source": [
    "2. Write a script that calculates how many vowels are in a string."
   ]
  },
  {
   "cell_type": "code",
   "execution_count": 20,
   "id": "bf7fa97d",
   "metadata": {},
   "outputs": [
    {
     "name": "stdout",
     "output_type": "stream",
     "text": [
      "ANa aRe MerE'\n",
      "Textul contine  6 vocale.\n"
     ]
    }
   ],
   "source": [
    "text = input()\n",
    "text = text.lower()\n",
    "cnt = 0\n",
    "for char in text:\n",
    "    if char in [\"a\",\"e\",\"i\",\"o\",\"u\"]:\n",
    "        cnt+=1\n",
    "print(\"Textul contine \",cnt,\"vocale.\")"
   ]
  },
  {
   "cell_type": "markdown",
   "id": "e0ed0b91",
   "metadata": {},
   "source": [
    "3. Write a script that receives two strings and prints the number of occurrences of the first string in the second."
   ]
  },
  {
   "cell_type": "code",
   "execution_count": 31,
   "id": "9bf48889",
   "metadata": {},
   "outputs": [
    {
     "name": "stdout",
     "output_type": "stream",
     "text": [
      "f\n",
      "abcdeFFfhgf\n",
      "Primul string apare in cel de-al doile de  2 ori.\n"
     ]
    }
   ],
   "source": [
    "str1 = input()\n",
    "str2 = input()\n",
    "print(\"Primul string apare in cel de-al doile de \",len(re.findall(str1,str2)),\"ori.\")"
   ]
  },
  {
   "cell_type": "markdown",
   "id": "6a2df074",
   "metadata": {},
   "source": [
    "4. Write a script that converts a string of characters written in UpperCamelCase into lowercase_with_underscores."
   ]
  },
  {
   "cell_type": "code",
   "execution_count": 95,
   "id": "a60ca10b",
   "metadata": {},
   "outputs": [
    {
     "name": "stdout",
     "output_type": "stream",
     "text": [
      "thisIsASampleText\n",
      "['is', 'a', 'sample', 'text']\n",
      "is_a_sample_text\n"
     ]
    }
   ],
   "source": [
    "text = input()\n",
    "#words = re.split('(?=[A-Z])',text)\n",
    "words = re.findall('[A-Z][a-z]*',text) # takes only words starting with uppercase\n",
    "words = [x.lower() for x in words] # converts to lowercase\n",
    "print(words)\n",
    "underscores = (\"\"+\"_\".join(words)) \n",
    "print(underscores)\n",
    "\n",
    "## https://pythonguides.com/concatenate-strings-in-python/#:~:text=Python%20concatenate%20strings%20with%20a%20separator,-Now%2C%20we%20will&text=We%20can%20also%20concatenate%20the%20strings%20by%20using%20the%20'%2C',a%20comma%20as%20a%20separator.&text=To%20get%20the%20output%2C%20I%20have%20used%20print(str)."
   ]
  },
  {
   "cell_type": "code",
   "execution_count": null,
   "id": "9ad4b291",
   "metadata": {},
   "outputs": [],
   "source": []
  }
 ],
 "metadata": {
  "kernelspec": {
   "display_name": "Python 3 (ipykernel)",
   "language": "python",
   "name": "python3"
  },
  "language_info": {
   "codemirror_mode": {
    "name": "ipython",
    "version": 3
   },
   "file_extension": ".py",
   "mimetype": "text/x-python",
   "name": "python",
   "nbconvert_exporter": "python",
   "pygments_lexer": "ipython3",
   "version": "3.9.7"
  }
 },
 "nbformat": 4,
 "nbformat_minor": 5
}
