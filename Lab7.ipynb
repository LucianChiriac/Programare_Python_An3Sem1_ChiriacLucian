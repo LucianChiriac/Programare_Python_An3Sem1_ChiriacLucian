{
 "cells": [
  {
   "cell_type": "markdown",
   "id": "8eb483b2",
   "metadata": {},
   "source": [
    "1. Write a function that extracts the words from a given text as a parameter. A word is defined as a sequence of alpha-numeric characters."
   ]
  },
  {
   "cell_type": "code",
   "execution_count": 7,
   "id": "226895a9",
   "metadata": {},
   "outputs": [],
   "source": [
    "def extract_words(text):\n",
    "    import re\n",
    "    words = re.findall('[a-zA-Z1-9]+',text)\n",
    "    return words"
   ]
  },
  {
   "cell_type": "code",
   "execution_count": 9,
   "id": "4d866a09",
   "metadata": {},
   "outputs": [
    {
     "data": {
      "text/plain": [
       "['Ana', 'a2re', 'm3re']"
      ]
     },
     "execution_count": 9,
     "metadata": {},
     "output_type": "execute_result"
    }
   ],
   "source": [
    "extract_words(\"Ana  a2re m3re\")"
   ]
  },
  {
   "cell_type": "markdown",
   "id": "b8ba271e",
   "metadata": {},
   "source": [
    "2. Write a function that receives as a parameter a regex string, a text string and a whole number x, and returns those long-length x substrings that match the regular expression."
   ]
  },
  {
   "cell_type": "code",
   "execution_count": 17,
   "id": "0c1a00dd",
   "metadata": {},
   "outputs": [],
   "source": [
    "def extractor(regex, text, x):\n",
    "    import re\n",
    "    substrings = re.findall(regex,text)\n",
    "    substrings = [w for w in substrings if len(w)==x]\n",
    "    return substrings"
   ]
  },
  {
   "cell_type": "code",
   "execution_count": 19,
   "id": "486bc46c",
   "metadata": {},
   "outputs": [
    {
     "data": {
      "text/plain": [
       "['AAAcc']"
      ]
     },
     "execution_count": 19,
     "metadata": {},
     "output_type": "execute_result"
    }
   ],
   "source": [
    "extractor(\"A+b*cc\", \"xulescu AAc AbBcc AAAccc Abcs\",5)"
   ]
  },
  {
   "cell_type": "markdown",
   "id": "93ebe5ce",
   "metadata": {},
   "source": [
    "3. Write a function that receives as a parameter a string of text characters and a list of regular expressions and returns a list of strings that match on at least one regular expression given as a parameter."
   ]
  },
  {
   "cell_type": "code",
   "execution_count": 27,
   "id": "64e1d135",
   "metadata": {},
   "outputs": [],
   "source": [
    "def extractor2(text, lista_regex):\n",
    "    import re\n",
    "    rezultat = []\n",
    "    for exp in lista_regex:\n",
    "        rezultat+= re.findall(exp,text)\n",
    "    return set(rezultat)\n",
    "    "
   ]
  },
  {
   "cell_type": "code",
   "execution_count": 28,
   "id": "1503b161",
   "metadata": {},
   "outputs": [
    {
     "data": {
      "text/plain": [
       "{'ab bla ablaaab aabblbla, alab aaa',\n",
       " 'bla',\n",
       " 'text de exemplu blab bla ablaaab aabblbla, ala'}"
      ]
     },
     "execution_count": 28,
     "metadata": {},
     "output_type": "execute_result"
    }
   ],
   "source": [
    "extractor2(\"text de exemplu blab bla ablaaab aabblbla, alab aaa\",['a+.*a','.*la','bla'])"
   ]
  },
  {
   "cell_type": "markdown",
   "id": "db23b1fd",
   "metadata": {},
   "source": [
    "4. Write a function that receives as a parameter the path to an xml document and an attrs dictionary and returns those elements that have as attributes all the keys in the dictionary and values ​​the corresponding values. For example, if attrs={\"class\": \"url\", \"name\": \"url-form\", \"data-id\": \"item\"} the items selected will be those tags whose attributes are class=\"url\" si name=\"url-form\" si data-id=\"item\".\n",
    "\n"
   ]
  },
  {
   "cell_type": "code",
   "execution_count": null,
   "id": "1ddbaa53",
   "metadata": {},
   "outputs": [],
   "source": []
  }
 ],
 "metadata": {
  "kernelspec": {
   "display_name": "Python 3 (ipykernel)",
   "language": "python",
   "name": "python3"
  },
  "language_info": {
   "codemirror_mode": {
    "name": "ipython",
    "version": 3
   },
   "file_extension": ".py",
   "mimetype": "text/x-python",
   "name": "python",
   "nbconvert_exporter": "python",
   "pygments_lexer": "ipython3",
   "version": "3.9.7"
  }
 },
 "nbformat": 4,
 "nbformat_minor": 5
}
