{
 "cells": [
  {
   "cell_type": "code",
   "execution_count": 59,
   "id": "eae079dc",
   "metadata": {},
   "outputs": [],
   "source": [
    "def point_distance(*args):\n",
    "    import math\n",
    "    elemente = []\n",
    "    for arg in args:\n",
    "        elemente.append(arg)\n",
    "    size = len(elemente)\n",
    "    for i in range(size-1):\n",
    "        for j in range(i+1,size):\n",
    "            print(\"d(\",elemente[i][0],\",\",elemente[j][0],\") = \",math.dist([elemente[i][1],elemente[i][2]],[elemente[j][1],elemente[j][2]]))\n",
    "            \n",
    "def dist(p1, p2):\n",
    "    import math\n",
    "    return math.dist([p1[1],p1[2]],[p2[1],p2[2]])\n",
    "\n",
    "def get_centroid(*args):\n",
    "    nr_centroids = 0\n",
    "    inputs = []\n",
    "    centroids = []\n",
    "    for arg in args:\n",
    "        nr_centroids += 1\n",
    "        inputs.append(arg)\n",
    "        c_x = sum(arg[x][1] for x in range(len(arg)))/len(arg)\n",
    "        c_y = sum(arg[x][2] for x in range(len(arg)))/len(arg)\n",
    "        centroids.append((\"mu\"+str(nr_centroids),c_x,c_y))\n",
    "    return centroids"
   ]
  },
  {
   "cell_type": "code",
   "execution_count": 55,
   "id": "ae017c15",
   "metadata": {},
   "outputs": [],
   "source": [
    "p1 = (\"P1\",1.90,0.97)\n",
    "p2 = (\"P2\",1.76,0.84)\n",
    "p3 = (\"P3\",2.32,1.63)\n",
    "p4 = (\"P4\",2.31,2.09)\n",
    "p5 = (\"P5\",1.14,2.11)\n",
    "p6 = (\"P6\",5.02,3.02)\n",
    "p7 = (\"P7\",5.74,3.84)\n",
    "p8 = (\"P8\",2.25,3.47)\n",
    "p9 = (\"P9\",4.71,3.60)\n",
    "p10 = (\"P10\",3.17,4.96)\n",
    "points = [p1,p2,p3,p4,p5,p6,p7,p8,p9,p10]"
   ]
  },
  {
   "cell_type": "code",
   "execution_count": 56,
   "id": "540adb8a",
   "metadata": {
    "scrolled": false
   },
   "outputs": [
    {
     "name": "stdout",
     "output_type": "stream",
     "text": [
      "d(P1,P1) =  0.0\n",
      "d(P10,P1) =  4.187242529398076\n",
      "d(P1,P2) =  0.19104973174542794\n",
      "d(P10,P2) =  4.354595273960601\n",
      "d(P1,P3) =  0.7823042886243178\n",
      "d(P10,P3) =  3.436771741038384\n",
      "d(P1,P4) =  1.1926860441876561\n",
      "d(P10,P4) =  2.9960807732769825\n",
      "d(P1,P5) =  1.3701094846763158\n",
      "d(P10,P5) =  3.499057015825836\n",
      "d(P1,P6) =  3.7332157719585397\n",
      "d(P10,P6) =  2.680690209628856\n",
      "d(P1,P7) =  4.794006675005782\n",
      "d(P10,P7) =  2.8034443101299518\n",
      "d(P1,P8) =  2.5243811122728674\n",
      "d(P10,P8) =  1.7511424842085235\n",
      "d(P1,P9) =  3.8487660360172584\n",
      "d(P10,P9) =  2.0545559130868156\n",
      "d(P1,P10) =  4.187242529398076\n",
      "d(P10,P10) =  0.0\n"
     ]
    }
   ],
   "source": [
    "for point in points:\n",
    "    print(\"d(P1,\"+point[0]+\") = \", dist(p1,point))\n",
    "    print(\"d(P10,\"+point[0]+\") = \", dist(p10,point))"
   ]
  },
  {
   "cell_type": "code",
   "execution_count": 64,
   "id": "d243e5f6",
   "metadata": {},
   "outputs": [
    {
     "data": {
      "text/plain": [
       "('mu1', 1.8860000000000003, 1.5279999999999998)"
      ]
     },
     "execution_count": 64,
     "metadata": {},
     "output_type": "execute_result"
    }
   ],
   "source": [
    "mu1, mu2 = get_centroid(points[:5],points[5:])\n",
    "mu1"
   ]
  },
  {
   "cell_type": "code",
   "execution_count": 63,
   "id": "f14d9f7b",
   "metadata": {
    "collapsed": true
   },
   "outputs": [
    {
     "name": "stdout",
     "output_type": "stream",
     "text": [
      "d(mu1,P1) =  0.558175599610015\n",
      "d(mu2,P1) =  3.615819132644773\n",
      "d(mu1,P2) =  0.6994426352460935\n",
      "d(mu2,P2) =  3.8050713528132434\n",
      "d(mu1,P3) =  0.4458250778051854\n",
      "d(mu2,P3) =  2.840082393171015\n",
      "d(mu1,P4) =  0.7040028409033587\n",
      "d(mu2,P4) =  2.517691005663721\n",
      "d(mu1,P5) =  0.9461712318602805\n",
      "d(mu2,P5) =  3.4657853366877767\n",
      "d(mu1,P6) =  3.4710257849805717\n",
      "d(mu2,P6) =  1.132928947463167\n",
      "d(mu1,P7) =  4.494291935333084\n",
      "d(mu2,P7) =  1.5632299894769166\n",
      "d(mu1,P8) =  1.9758188176044889\n",
      "d(mu2,P8) =  1.9524466702063847\n",
      "d(mu1,P9) =  3.5025933249522416\n",
      "d(mu2,P9) =  0.5609884134275858\n",
      "d(mu1,P10) =  3.664325313069243\n",
      "d(mu2,P10) =  1.5534439159493334\n"
     ]
    }
   ],
   "source": [
    "for point in points:\n",
    "    print(\"d(mu1,\"+point[0]+\") = \", dist(mu1,point))\n",
    "    print(\"d(mu2,\"+point[0]+\") = \", dist(mu2,point))"
   ]
  },
  {
   "cell_type": "code",
   "execution_count": 66,
   "id": "561591b8",
   "metadata": {},
   "outputs": [],
   "source": [
    "points_40 = [(\"A\",2, 10), (\"B\",2, 5), (\"C\",8, 4), (\"D\",5, 8), (\"E\",7, 5), (\"F\",6, 4), (\"G\",1, 2), (\"H\",4, 9)]\n",
    "centroids = [points_40[0],points_40[3],points_40[6]]"
   ]
  },
  {
   "cell_type": "code",
   "execution_count": 69,
   "id": "17a3e4db",
   "metadata": {},
   "outputs": [
    {
     "name": "stdout",
     "output_type": "stream",
     "text": [
      "d(A,A) =  0.0\n",
      "d(A,D) =  3.6055512754639896\n",
      "d(A,G) =  8.06225774829855\n",
      "d(B,A) =  5.0\n",
      "d(B,D) =  4.242640687119286\n",
      "d(B,G) =  3.1622776601683795\n",
      "d(C,A) =  8.485281374238571\n",
      "d(C,D) =  5.0\n",
      "d(C,G) =  7.280109889280519\n",
      "d(D,A) =  3.6055512754639896\n",
      "d(D,D) =  0.0\n",
      "d(D,G) =  7.211102550927979\n",
      "d(E,A) =  7.0710678118654755\n",
      "d(E,D) =  3.6055512754639896\n",
      "d(E,G) =  6.708203932499369\n",
      "d(F,A) =  7.211102550927979\n",
      "d(F,D) =  4.123105625617661\n",
      "d(F,G) =  5.385164807134505\n",
      "d(G,A) =  8.06225774829855\n",
      "d(G,D) =  7.211102550927979\n",
      "d(G,G) =  0.0\n",
      "d(H,A) =  2.23606797749979\n",
      "d(H,D) =  1.4142135623730951\n",
      "d(H,G) =  7.615773105863909\n"
     ]
    }
   ],
   "source": [
    "for point in points_40:\n",
    "    for mu in centroids:\n",
    "         print(\"d(\"+point[0]+\",\"+mu[0]+\") = \", dist(mu,point))"
   ]
  },
  {
   "cell_type": "code",
   "execution_count": 73,
   "id": "9a96121e",
   "metadata": {},
   "outputs": [
    {
     "data": {
      "text/plain": [
       "[('mu1', 3.6666666666666665, 9.0),\n",
       " ('mu2', 1.5, 3.5),\n",
       " ('mu3', 7.0, 4.333333333333333)]"
      ]
     },
     "execution_count": 73,
     "metadata": {},
     "output_type": "execute_result"
    }
   ],
   "source": [
    "centroids = get_centroid([points_40[0],points_40[7],points_40[3]],[points_40[1],points_40[6]],[points_40[2],points_40[4],points_40[5]])\n",
    "centroids"
   ]
  },
  {
   "cell_type": "code",
   "execution_count": 78,
   "id": "c3f069d7",
   "metadata": {},
   "outputs": [
    {
     "data": {
      "text/plain": [
       "11.357816691600547"
      ]
     },
     "execution_count": 78,
     "metadata": {},
     "output_type": "execute_result"
    }
   ],
   "source": [
    "import math\n",
    "import numpy as np\n",
    "math.dist([1,0,0],[8,8,4])"
   ]
  },
  {
   "cell_type": "code",
   "execution_count": 104,
   "id": "fb564745",
   "metadata": {},
   "outputs": [],
   "source": [
    "x1 = np.array([1,0,0])\n",
    "x2 = np.array([8,8,4])\n",
    "x3 = np.array([3,3,0])\n",
    "x4 = np.array([0,0,1])\n",
    "x5 = np.array([0,1,0])\n",
    "x6 = np.array([3,2,1])\n",
    "mu1 = x1\n",
    "mu2 = x2"
   ]
  },
  {
   "cell_type": "code",
   "execution_count": 105,
   "id": "cd913353",
   "metadata": {},
   "outputs": [
    {
     "name": "stdout",
     "output_type": "stream",
     "text": [
      "[1.4 1.2 0.4] [8 8 4]\n"
     ]
    }
   ],
   "source": [
    "mu1 = np.mean([x1,x3,x4,x5,x6],axis=0)\n",
    "print(mu1, mu2)"
   ]
  },
  {
   "cell_type": "code",
   "execution_count": 106,
   "id": "8547c6c7",
   "metadata": {},
   "outputs": [
    {
     "name": "stdout",
     "output_type": "stream",
     "text": [
      "1.3266499161421599 11.357816691600547\n",
      "10.137060717979349 0.0\n",
      "2.4413111231467406 8.12403840463596\n",
      "1.9390719429665315 11.704699910719626\n",
      "1.469693845669907 11.357816691600547\n",
      "1.8867962264113207 8.366600265340757\n"
     ]
    }
   ],
   "source": [
    "for point in [x1,x2,x3,x4,x5,x6]:\n",
    "    print(math.dist(point,mu1),math.dist(point,mu2))"
   ]
  },
  {
   "cell_type": "code",
   "execution_count": 107,
   "id": "0b958eb8",
   "metadata": {},
   "outputs": [],
   "source": [
    "mu1 = x1\n",
    "mu2 = x2\n",
    "mu3 = x3"
   ]
  },
  {
   "cell_type": "code",
   "execution_count": 108,
   "id": "6022b83f",
   "metadata": {},
   "outputs": [
    {
     "name": "stdout",
     "output_type": "stream",
     "text": [
      "1.4142135623730951 11.704699910719626 11.704699910719626\n",
      "1.4142135623730951 11.357816691600547 11.357816691600547\n",
      "3.0 8.366600265340757 8.366600265340757\n"
     ]
    }
   ],
   "source": [
    "for point in [x4,x5,x6]:\n",
    "    print(math.dist(mu1,point),math.dist(mu2,point),math.dist(mu2,point))"
   ]
  },
  {
   "cell_type": "code",
   "execution_count": 110,
   "id": "8081ed8e",
   "metadata": {},
   "outputs": [
    {
     "data": {
      "text/plain": [
       "array([1.  , 0.75, 0.5 ])"
      ]
     },
     "execution_count": 110,
     "metadata": {},
     "output_type": "execute_result"
    }
   ],
   "source": [
    "mu1 = np.mean([x1,x4,x5,x6], axis=0)\n",
    "mu1"
   ]
  },
  {
   "cell_type": "code",
   "execution_count": 111,
   "id": "5dcb6b28",
   "metadata": {},
   "outputs": [
    {
     "name": "stdout",
     "output_type": "stream",
     "text": [
      "0.9013878188659974 11.357816691600547 11.357816691600547\n",
      "1.346291201783626 11.704699910719626 11.704699910719626\n",
      "1.14564392373896 11.357816691600547 11.357816691600547\n",
      "2.4109126902482387 8.366600265340757 8.366600265340757\n"
     ]
    }
   ],
   "source": [
    "for point in [x1,x4,x5,x6]:\n",
    "    print(math.dist(mu1,point),math.dist(mu2,point),math.dist(mu2,point))"
   ]
  },
  {
   "cell_type": "code",
   "execution_count": 117,
   "id": "d6a411a3",
   "metadata": {},
   "outputs": [
    {
     "data": {
      "text/plain": [
       "161.8"
      ]
     },
     "execution_count": 117,
     "metadata": {},
     "output_type": "execute_result"
    }
   ],
   "source": [
    "mu1 = np.array([1.4,1.2,0.4])\n",
    "mu2 = np.array([8,8,4])\n",
    "coeziune_k2 = 0\n",
    "for point in [x1,x3,x4,x5,x6]:\n",
    "    coeziune_k2 += np.dot(mu1,point)\n",
    "coeziune_k2 += np.dot(mu2,x2)\n",
    "coeziune_k2"
   ]
  },
  {
   "cell_type": "code",
   "execution_count": 118,
   "id": "386618e0",
   "metadata": {},
   "outputs": [
    {
     "data": {
      "text/plain": [
       "169.25"
      ]
     },
     "execution_count": 118,
     "metadata": {},
     "output_type": "execute_result"
    }
   ],
   "source": [
    "mu1 = np.mean([x1,x4,x5,x6], axis=0)\n",
    "mu2 = x2\n",
    "mu3 = x3\n",
    "\n",
    "coeziune_k3 = 0\n",
    "for point in [x1,x4,x5,x6]:\n",
    "    coeziune_k3 += np.dot(mu1,point)\n",
    "coeziune_k3 += np.dot(mu2,x2)\n",
    "coeziune_k3 += np.dot(mu3,x3)\n",
    "coeziune_k3"
   ]
  },
  {
   "cell_type": "code",
   "execution_count": null,
   "id": "41c387af",
   "metadata": {},
   "outputs": [],
   "source": []
  }
 ],
 "metadata": {
  "kernelspec": {
   "display_name": "Python 3 (ipykernel)",
   "language": "python",
   "name": "python3"
  },
  "language_info": {
   "codemirror_mode": {
    "name": "ipython",
    "version": 3
   },
   "file_extension": ".py",
   "mimetype": "text/x-python",
   "name": "python",
   "nbconvert_exporter": "python",
   "pygments_lexer": "ipython3",
   "version": "3.9.7"
  }
 },
 "nbformat": 4,
 "nbformat_minor": 5
}
