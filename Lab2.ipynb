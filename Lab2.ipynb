{
 "cells": [
  {
   "cell_type": "markdown",
   "id": "e8e0bde9",
   "metadata": {},
   "source": [
    "1. Write a function to return a list of the first n numbers in the Fibonacci string."
   ]
  },
  {
   "cell_type": "code",
   "execution_count": 5,
   "id": "0c1cd8f5",
   "metadata": {},
   "outputs": [],
   "source": [
    "def first_fibonaci(number):\n",
    "    if number == 1:\n",
    "        return [0]\n",
    "    elif number == 2:\n",
    "        return [0,1]\n",
    "    else:\n",
    "        lista = [0,1]\n",
    "        for ind in range(number-2):\n",
    "            lista.append(lista[ind]+lista[ind+1])\n",
    "    return lista"
   ]
  },
  {
   "cell_type": "code",
   "execution_count": 9,
   "id": "2661977a",
   "metadata": {},
   "outputs": [
    {
     "data": {
      "text/plain": [
       "[0, 1, 1, 2, 3, 5, 8, 13, 21, 34, 55, 89, 144]"
      ]
     },
     "execution_count": 9,
     "metadata": {},
     "output_type": "execute_result"
    }
   ],
   "source": [
    "first_fibonaci(13)"
   ]
  },
  {
   "cell_type": "markdown",
   "id": "52e3f1b4",
   "metadata": {},
   "source": [
    "2.  Write a function that receives a list of numbers and returns a list of the prime numbers found in it."
   ]
  },
  {
   "cell_type": "code",
   "execution_count": 13,
   "id": "31fd13a7",
   "metadata": {},
   "outputs": [],
   "source": [
    "# use sympy library for isprime() function...no sense to reinvent the wheel\n",
    "def prime_in(lista):\n",
    "    import sympy as sp\n",
    "    return [x for x in lista if sp.isprime(x)]"
   ]
  },
  {
   "cell_type": "markdown",
   "id": "43507529",
   "metadata": {},
   "source": [
    "3. Write a function that receives as parameters two lists a and b and returns: (a intersected with b, a reunited with b, a - b, b - a)"
   ]
  },
  {
   "cell_type": "code",
   "execution_count": 16,
   "id": "390417c1",
   "metadata": {},
   "outputs": [],
   "source": [
    "# se cer operatiile pe liste, si nu pe seturi..deci vor exista si duplicate\n",
    "# alternativ, se aplica functia set() pe cele doua liste, si se fac operatiile pe seturi (easier)\n",
    "\n",
    "def myfunc(a,b):\n",
    "    aINTb = [x for x in a if x in b]\n",
    "    aUb = a+b\n",
    "    aMinusB = [x for x in a if x not in b]\n",
    "    bMinusA = [x for x in b if x not in a]\n",
    "    return (aINTb,aUb,aMinusB,bMinusA)"
   ]
  },
  {
   "cell_type": "code",
   "execution_count": 18,
   "id": "5f7f268a",
   "metadata": {},
   "outputs": [
    {
     "data": {
      "text/plain": [
       "([3, 4], [1, 2, 3, 4, 3, 4, 8, 6], [1, 2], [8, 6])"
      ]
     },
     "execution_count": 18,
     "metadata": {},
     "output_type": "execute_result"
    }
   ],
   "source": [
    "myfunc([1,2,3,4],[3,4,8,6])"
   ]
  },
  {
   "cell_type": "markdown",
   "id": "60ac2ec1",
   "metadata": {},
   "source": [
    "4.  Write a function that receives as a parameters a list of musical notes (strings), a list of moves (integers) and a start position (integer). The function will return the song composed by going though the musical notes beginning with the start position and following the moves given as parameter.\n",
    "\tExample : compose([\"do\", \"re\", \"mi\", \"fa\", \"sol\"], [1, -3, 4, 2], 2) will return [\"mi\", \"fa\", \"do\", \"sol\", \"re\"] "
   ]
  },
  {
   "cell_type": "code",
   "execution_count": 42,
   "id": "b75ee473",
   "metadata": {},
   "outputs": [],
   "source": [
    "def music(note_muzicale, mutari, start_idx):\n",
    "    music = [note_muzicale[start_idx]]\n",
    "    for move in mutari:\n",
    "        start_idx = start_idx+move\n",
    "        music.append(note_muzicale[start_idx%len(note_muzicale)])\n",
    "    return music"
   ]
  },
  {
   "cell_type": "code",
   "execution_count": 43,
   "id": "75fefaa2",
   "metadata": {},
   "outputs": [
    {
     "data": {
      "text/plain": [
       "['mi', 'fa', 'do', 'sol', 're']"
      ]
     },
     "execution_count": 43,
     "metadata": {},
     "output_type": "execute_result"
    }
   ],
   "source": [
    "music([\"do\", \"re\", \"mi\", \"fa\", \"sol\"], [1, -3, 4, 2], 2)"
   ]
  },
  {
   "cell_type": "markdown",
   "id": "60c8efa3",
   "metadata": {},
   "source": [
    "5. Write a function that receives as parameter a matrix and will return the matrix obtained by replacing all the elements under the main diagonal with 0 (zero)."
   ]
  },
  {
   "cell_type": "code",
   "execution_count": 50,
   "id": "42d695c9",
   "metadata": {},
   "outputs": [],
   "source": [
    "def matrix_diag(matrice):\n",
    "    # scurta validare\n",
    "    for row in matrice:\n",
    "        if len(row)!=len(matrice):\n",
    "            print(\"Matricea nu e patratica!\")\n",
    "            return matrice\n",
    "    #inlocuire elemente\n",
    "    for row in range(1,len(matrice)):  # prima linie ramane completa, se schimba incepand cu a doua\n",
    "        for col in range(row):  # pe fiecare linie se modifica doar coloanele cu idx< decat idx-ul liniei\n",
    "            matrice[row][col]=0\n",
    "    return matrice\n",
    "        "
   ]
  },
  {
   "cell_type": "code",
   "execution_count": 51,
   "id": "303feffc",
   "metadata": {},
   "outputs": [
    {
     "data": {
      "text/plain": [
       "[[1, 2, 3], [0, 5, 6], [0, 0, 9]]"
      ]
     },
     "execution_count": 51,
     "metadata": {},
     "output_type": "execute_result"
    }
   ],
   "source": [
    "matrice = [[1,2,3],[4,5,6],[7,8,9]]\n",
    "matrix_diag(matrice)"
   ]
  },
  {
   "cell_type": "markdown",
   "id": "c922230d",
   "metadata": {},
   "source": [
    "6. Write a function that receives as a parameter a variable number of lists and a whole number x. Return a list containing the items that appear exactly x times in the incoming lists. \n",
    "\n",
    "Example: For the [1,2,3], [2,3,4],[4,5,6], [4,1, \"test\"] and x = 2 lists [1,2,3 ] # 1 is in list 1 and 4, 2 is in list 1 and 2, 3 is in lists 1 and 2."
   ]
  },
  {
   "cell_type": "code",
   "execution_count": 89,
   "id": "4f4688ac",
   "metadata": {},
   "outputs": [],
   "source": [
    "def weird_func(*argv):\n",
    "    date_intrare=[]\n",
    "    rezultat = []\n",
    "    for entry in argv:\n",
    "        date_intrare.append(entry)\n",
    "    x = date_intrare[-1]\n",
    "    ## ca sa eficientizam, creem intai un set cu toate valorile unice din datele de intrare\n",
    "    unice = set()\n",
    "    for lista in date_intrare[:-1]:\n",
    "        unice.update(set(lista))\n",
    "    # algoritmul propriuzis\n",
    "    for element in unice:\n",
    "        count = 0\n",
    "        for lista in date_intrare[:-1]:\n",
    "            if element in lista:\n",
    "                count = count+1\n",
    "        if count == x:\n",
    "            rezultat.append(element)\n",
    "    return rezultat"
   ]
  },
  {
   "cell_type": "code",
   "execution_count": 90,
   "id": "8968c115",
   "metadata": {},
   "outputs": [
    {
     "data": {
      "text/plain": [
       "[1, 2, 3]"
      ]
     },
     "execution_count": 90,
     "metadata": {},
     "output_type": "execute_result"
    }
   ],
   "source": [
    "weird_func([1,2,3], [2,3,4],[4,5,6], [4,1, \"test\"],2)"
   ]
  },
  {
   "cell_type": "markdown",
   "id": "d9bdf644",
   "metadata": {},
   "source": [
    "7. Write a function that receives as parameter a list of numbers (integers) and will return a tuple with 2 elements. The first element of the tuple will be the number of palindrome numbers found in the list and the second element will be the greatest palindrome number."
   ]
  },
  {
   "cell_type": "code",
   "execution_count": 94,
   "id": "bd9c4bf8",
   "metadata": {},
   "outputs": [],
   "source": [
    "def palindromes(lista):\n",
    "    palindroame = []\n",
    "    for number in lista: # verificam daca e palindrom\n",
    "        invs = 0\n",
    "        copy = number\n",
    "        while copy:\n",
    "            invs = invs*10+copy%10\n",
    "            copy = copy //10\n",
    "        if invs == number:\n",
    "            palindroame.append(number)\n",
    "    return((len(palindroame),max(palindroame)))"
   ]
  },
  {
   "cell_type": "code",
   "execution_count": 95,
   "id": "ffc6b45b",
   "metadata": {},
   "outputs": [
    {
     "data": {
      "text/plain": [
       "(3, 5258525)"
      ]
     },
     "execution_count": 95,
     "metadata": {},
     "output_type": "execute_result"
    }
   ],
   "source": [
    "palindromes([121,15,1485,5258525,1443,11])"
   ]
  },
  {
   "cell_type": "markdown",
   "id": "97497ba6",
   "metadata": {},
   "source": [
    "8.Write a function that receives a number x, default value equal to 1, a list of strings, and a boolean flag set to True. For each string, generate a list containing the characters that have the ASCII code divisible by x if the flag is set to True, otherwise it should contain characters that have the ASCII code not divisible by x.\n",
    "\n",
    " Example: x = 2, [\"test\", \"hello\", \"lab002\"], flag = False will return ([\"e\", \"s\"], [\"e\" . Note: The function must return list of lists."
   ]
  },
  {
   "cell_type": "code",
   "execution_count": 100,
   "id": "ca08e21a",
   "metadata": {},
   "outputs": [],
   "source": [
    "def functie(x, strings, flag=True): ## nu il pot face pe x default = 1....non-default argument follows default argument\n",
    "    rezultat=[]\n",
    "    for sir in strings:\n",
    "        if(flag):\n",
    "            subrez=[char for char in sir if ord(char)%x==0]\n",
    "            rezultat.append(subrez)\n",
    "        else:\n",
    "            subrez=[char for char in sir if ord(char)%x!=0]\n",
    "            rezultat.append(subrez)\n",
    "    return rezultat"
   ]
  },
  {
   "cell_type": "code",
   "execution_count": 101,
   "id": "51184c77",
   "metadata": {},
   "outputs": [
    {
     "data": {
      "text/plain": [
       "[['e', 's'], ['e', 'o'], ['a']]"
      ]
     },
     "execution_count": 101,
     "metadata": {},
     "output_type": "execute_result"
    }
   ],
   "source": [
    "functie(2,[\"test\", \"hello\", \"lab002\"], flag = False)"
   ]
  },
  {
   "cell_type": "code",
   "execution_count": null,
   "id": "59ee6397",
   "metadata": {},
   "outputs": [],
   "source": []
  }
 ],
 "metadata": {
  "kernelspec": {
   "display_name": "Python 3 (ipykernel)",
   "language": "python",
   "name": "python3"
  },
  "language_info": {
   "codemirror_mode": {
    "name": "ipython",
    "version": 3
   },
   "file_extension": ".py",
   "mimetype": "text/x-python",
   "name": "python",
   "nbconvert_exporter": "python",
   "pygments_lexer": "ipython3",
   "version": "3.9.7"
  }
 },
 "nbformat": 4,
 "nbformat_minor": 5
}
