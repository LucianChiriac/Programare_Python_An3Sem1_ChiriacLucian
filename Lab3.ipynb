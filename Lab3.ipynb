{
 "cells": [
  {
   "cell_type": "markdown",
   "id": "63c2d106",
   "metadata": {},
   "source": [
    "1. Write a function that receives as parameters two lists a and b and returns a list of sets containing: (a intersected with b, a reunited with b, a - b, b - a)"
   ]
  },
  {
   "cell_type": "code",
   "execution_count": 1,
   "id": "b85e285c",
   "metadata": {},
   "outputs": [],
   "source": [
    "def set_ops(lista1, lista2):\n",
    "    lista1 = set(lista1)\n",
    "    lista2 = set(lista2)\n",
    "    return([lista1.intersection(lista2),lista1.union(lista2), lista1.difference(lista2),lista2.difference(lista1)])"
   ]
  },
  {
   "cell_type": "code",
   "execution_count": 2,
   "id": "17f6cc12",
   "metadata": {},
   "outputs": [
    {
     "data": {
      "text/plain": [
       "[{2, 3, 'a'}, {1, 2, 3, 4, 'a', 'b', 'c'}, {1, 'b'}, {4, 'c'}]"
      ]
     },
     "execution_count": 2,
     "metadata": {},
     "output_type": "execute_result"
    }
   ],
   "source": [
    "set_ops([\"a\",\"b\",1,2,3],[2,3,4,\"c\",\"a\"])"
   ]
  },
  {
   "cell_type": "markdown",
   "id": "7513e89b",
   "metadata": {},
   "source": [
    "2.  Write a function that receives a string as a parameter and returns a dictionary in which the keys are the characters in the character string and the values are the number of occurrences of that character in the given text."
   ]
  },
  {
   "cell_type": "code",
   "execution_count": 16,
   "id": "d079cab1",
   "metadata": {},
   "outputs": [],
   "source": [
    "def sol1(inpt):\n",
    "    from collections import Counter\n",
    "    return dict(Counter(char for char in inpt).most_common()) # dictionar cu toate caracterele, sortate descrescator\n",
    "\n",
    "def sol2(inpt):\n",
    "    rezult = {}\n",
    "    for char in inpt:\n",
    "        if char in rezult:\n",
    "            rezult[char] = rezult[char]+1\n",
    "        else:\n",
    "            rezult[char] = 1\n",
    "    return rezult"
   ]
  },
  {
   "cell_type": "code",
   "execution_count": 18,
   "id": "a9fbaf22",
   "metadata": {},
   "outputs": [
    {
     "name": "stdout",
     "output_type": "stream",
     "text": [
      "{'a': 3, ' ': 2, 's': 2, 'p': 2, 'A': 1, 'n': 1, 'h': 1, 'l': 1, 'e': 1, '.': 1}\n",
      "{'A': 1, 'n': 1, 'a': 3, ' ': 2, 'h': 1, 's': 2, 'p': 2, 'l': 1, 'e': 1, '.': 1}\n"
     ]
    }
   ],
   "source": [
    "print(sol1(\"Ana has apples.\"))\n",
    "print(sol2(\"Ana has apples.\"))"
   ]
  },
  {
   "cell_type": "markdown",
   "id": "38f8c76c",
   "metadata": {},
   "source": [
    "3.  Compare two dictionaries without using the operator \"==\" returning True or False. (Attention, dictionaries must be recursively covered because they can contain other containers, such as dictionaries, lists, sets, etc.)"
   ]
  },
  {
   "cell_type": "code",
   "execution_count": 1,
   "id": "070b6a7b",
   "metadata": {},
   "outputs": [],
   "source": [
    "def compare_dictionaries(dic1, dic2):\n",
    "    for tpl in dic1.items():\n",
    "        if tpl not in dic2:\n",
    "            return False\n",
    "    for tpl in dic2.items():\n",
    "        if tpl not in dic1:\n",
    "            return False\n",
    "    return True\n",
    "\n",
    "# obtin fiecare pereche (key,value) din primul dictionar. Daca ea nu exista si in al doilea,\n",
    "#e clar ca dictionarele sunt diferite. Similar din al doilea dictionar"
   ]
  },
  {
   "cell_type": "markdown",
   "id": "c074dd86",
   "metadata": {},
   "source": [
    "4. The build_xml_element function receives the following parameters: tag, content, and key-value elements given as name-parameters. Build and return a string that represents the corresponding XML element. Example: build_xml_element (\"a\", \"Hello there\", href =\" http://python.org \", _class =\" my-link \", id= \" someid \") returns  the string = \"<a href=\\\"http://python.org \\ \"_class = \\\" my-link \\ \"id = \\\" someid \\ \"> Hello there </a>\""
   ]
  },
  {
   "cell_type": "code",
   "execution_count": 22,
   "id": "d7ad5b89",
   "metadata": {},
   "outputs": [],
   "source": [
    "def build_xml(tag, content, **kwargs):\n",
    "    final_element = \"<\"+tag+\" \"\n",
    "    for key, value in kwargs.items():\n",
    "        final_element = final_element+key+\"=\"+value+\"\\\\\"\n",
    "    final_element = final_element+\">\"+content\n",
    "    return final_element"
   ]
  },
  {
   "cell_type": "code",
   "execution_count": 23,
   "id": "5f57758b",
   "metadata": {},
   "outputs": [
    {
     "data": {
      "text/plain": [
       "'<a href= http://python.org \\\\_class= my-link \\\\id= someid \\\\>Hello there'"
      ]
     },
     "execution_count": 23,
     "metadata": {},
     "output_type": "execute_result"
    }
   ],
   "source": [
    "build_xml(\"a\", \"Hello there\", href =\" http://python.org \", _class =\" my-link \", id= \" someid \")"
   ]
  },
  {
   "cell_type": "markdown",
   "id": "c165b8e1",
   "metadata": {},
   "source": [
    "5. The validate_dict function that receives as a parameter a set of tuples ( that represents validation rules for a dictionary that has strings as keys and values) and a dictionary. A rule is defined as follows: (key, \"prefix\", \"middle\", \"suffix\"). A value is considered valid if it starts with \"prefix\", \"middle\" is inside the value (not at the beginning or end) and ends with \"suffix\". The function will return True if the given dictionary matches all the rules, False otherwise.\n",
    "\n",
    "Example: the rules  s={(\"key1\", \"\", \"inside\", \"\"), (\"key2\", \"start\", \"middle\", \"winter\")}  and d= {\"key1\": \"come inside, it's too cold out\", \"key3\": \"this is not valid\"} => False because although the rules are respected for \"key1\" and \"key2\" \"key3\" that does not appear in the rules."
   ]
  },
  {
   "cell_type": "markdown",
   "id": "9d2dbc1d",
   "metadata": {},
   "source": [
    "6.  Write a function that receives as a parameter a list and returns a tuple (a, b), representing the number of unique elements in the list, and b representing the number of duplicate elements in the list (use sets to achieve this objective)."
   ]
  },
  {
   "cell_type": "code",
   "execution_count": 32,
   "id": "05a6b8a3",
   "metadata": {},
   "outputs": [],
   "source": [
    "def list_checker(lista):\n",
    "    lst_set = set(lista)\n",
    "    a = len(lst_set)\n",
    "    b = len(lista) - a\n",
    "    return (a,b)\n",
    "\n",
    "# enuntul e neclar... am returnat cate elemente distincte sunt in total in set\n",
    "# si cate elemente sunt repetate"
   ]
  },
  {
   "cell_type": "code",
   "execution_count": 33,
   "id": "5910d236",
   "metadata": {},
   "outputs": [
    {
     "data": {
      "text/plain": [
       "(5, 2)"
      ]
     },
     "execution_count": 33,
     "metadata": {},
     "output_type": "execute_result"
    }
   ],
   "source": [
    "list_checker([\"a\",\"a\",\"b\",1,2,3,1])"
   ]
  },
  {
   "cell_type": "code",
   "execution_count": null,
   "id": "37cb0549",
   "metadata": {},
   "outputs": [],
   "source": []
  },
  {
   "cell_type": "code",
   "execution_count": null,
   "id": "9a32b244",
   "metadata": {},
   "outputs": [],
   "source": []
  }
 ],
 "metadata": {
  "kernelspec": {
   "display_name": "Python 3 (ipykernel)",
   "language": "python",
   "name": "python3"
  },
  "language_info": {
   "codemirror_mode": {
    "name": "ipython",
    "version": 3
   },
   "file_extension": ".py",
   "mimetype": "text/x-python",
   "name": "python",
   "nbconvert_exporter": "python",
   "pygments_lexer": "ipython3",
   "version": "3.9.7"
  }
 },
 "nbformat": 4,
 "nbformat_minor": 5
}
